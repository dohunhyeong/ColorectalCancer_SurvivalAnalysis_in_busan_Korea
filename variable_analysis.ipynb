{
 "cells": [
  {
   "cell_type": "markdown",
   "metadata": {},
   "source": [
    "# 변수들의 count & proportion 확인"
   ]
  },
  {
   "cell_type": "code",
   "execution_count": null,
   "metadata": {},
   "outputs": [
    {
     "data": {
      "text/html": [
       "<div>\n",
       "<style scoped>\n",
       "    .dataframe tbody tr th:only-of-type {\n",
       "        vertical-align: middle;\n",
       "    }\n",
       "\n",
       "    .dataframe tbody tr th {\n",
       "        vertical-align: top;\n",
       "    }\n",
       "\n",
       "    .dataframe thead th {\n",
       "        text-align: right;\n",
       "    }\n",
       "</style>\n",
       "<table border=\"1\" class=\"dataframe\">\n",
       "  <thead>\n",
       "    <tr style=\"text-align: right;\">\n",
       "      <th></th>\n",
       "      <th>sex</th>\n",
       "      <th>age</th>\n",
       "      <th>fdx</th>\n",
       "      <th>mcode</th>\n",
       "      <th>bunhwado</th>\n",
       "      <th>method</th>\n",
       "      <th>icd_10</th>\n",
       "      <th>tx</th>\n",
       "      <th>seercode</th>\n",
       "      <th>stagecode</th>\n",
       "      <th>...</th>\n",
       "      <th>tx_00100</th>\n",
       "      <th>tx_01000</th>\n",
       "      <th>tx_01100</th>\n",
       "      <th>tx_10000</th>\n",
       "      <th>tx_10010</th>\n",
       "      <th>tx_10100</th>\n",
       "      <th>tx_11000</th>\n",
       "      <th>tx_11010</th>\n",
       "      <th>tx_11100</th>\n",
       "      <th>age_scaled</th>\n",
       "    </tr>\n",
       "  </thead>\n",
       "  <tbody>\n",
       "    <tr>\n",
       "      <th>0</th>\n",
       "      <td>0</td>\n",
       "      <td>66</td>\n",
       "      <td>199902</td>\n",
       "      <td>81403</td>\n",
       "      <td>NaN</td>\n",
       "      <td>7</td>\n",
       "      <td>C187</td>\n",
       "      <td>11000</td>\n",
       "      <td>Regional</td>\n",
       "      <td>NaN</td>\n",
       "      <td>...</td>\n",
       "      <td>0</td>\n",
       "      <td>0</td>\n",
       "      <td>0</td>\n",
       "      <td>0</td>\n",
       "      <td>0</td>\n",
       "      <td>0</td>\n",
       "      <td>1</td>\n",
       "      <td>0</td>\n",
       "      <td>0</td>\n",
       "      <td>0.197637</td>\n",
       "    </tr>\n",
       "    <tr>\n",
       "      <th>1</th>\n",
       "      <td>0</td>\n",
       "      <td>46</td>\n",
       "      <td>199903</td>\n",
       "      <td>84803</td>\n",
       "      <td>NaN</td>\n",
       "      <td>7</td>\n",
       "      <td>C180</td>\n",
       "      <td>11000</td>\n",
       "      <td>Localized</td>\n",
       "      <td>TNM</td>\n",
       "      <td>...</td>\n",
       "      <td>0</td>\n",
       "      <td>0</td>\n",
       "      <td>0</td>\n",
       "      <td>0</td>\n",
       "      <td>0</td>\n",
       "      <td>0</td>\n",
       "      <td>1</td>\n",
       "      <td>0</td>\n",
       "      <td>0</td>\n",
       "      <td>-1.421526</td>\n",
       "    </tr>\n",
       "    <tr>\n",
       "      <th>2</th>\n",
       "      <td>1</td>\n",
       "      <td>64</td>\n",
       "      <td>199903</td>\n",
       "      <td>81403</td>\n",
       "      <td>NaN</td>\n",
       "      <td>7</td>\n",
       "      <td>C184</td>\n",
       "      <td>11000</td>\n",
       "      <td>Localized</td>\n",
       "      <td>NaN</td>\n",
       "      <td>...</td>\n",
       "      <td>0</td>\n",
       "      <td>0</td>\n",
       "      <td>0</td>\n",
       "      <td>0</td>\n",
       "      <td>0</td>\n",
       "      <td>0</td>\n",
       "      <td>1</td>\n",
       "      <td>0</td>\n",
       "      <td>0</td>\n",
       "      <td>0.035721</td>\n",
       "    </tr>\n",
       "    <tr>\n",
       "      <th>3</th>\n",
       "      <td>1</td>\n",
       "      <td>47</td>\n",
       "      <td>199904</td>\n",
       "      <td>84803</td>\n",
       "      <td>NaN</td>\n",
       "      <td>7</td>\n",
       "      <td>C20</td>\n",
       "      <td>11000</td>\n",
       "      <td>Regional</td>\n",
       "      <td>TNM</td>\n",
       "      <td>...</td>\n",
       "      <td>0</td>\n",
       "      <td>0</td>\n",
       "      <td>0</td>\n",
       "      <td>0</td>\n",
       "      <td>0</td>\n",
       "      <td>0</td>\n",
       "      <td>1</td>\n",
       "      <td>0</td>\n",
       "      <td>0</td>\n",
       "      <td>-1.340568</td>\n",
       "    </tr>\n",
       "    <tr>\n",
       "      <th>4</th>\n",
       "      <td>0</td>\n",
       "      <td>57</td>\n",
       "      <td>199905</td>\n",
       "      <td>81403</td>\n",
       "      <td>NaN</td>\n",
       "      <td>7</td>\n",
       "      <td>C20</td>\n",
       "      <td>10000</td>\n",
       "      <td>Localized</td>\n",
       "      <td>NaN</td>\n",
       "      <td>...</td>\n",
       "      <td>0</td>\n",
       "      <td>0</td>\n",
       "      <td>0</td>\n",
       "      <td>1</td>\n",
       "      <td>0</td>\n",
       "      <td>0</td>\n",
       "      <td>0</td>\n",
       "      <td>0</td>\n",
       "      <td>0</td>\n",
       "      <td>-0.530986</td>\n",
       "    </tr>\n",
       "    <tr>\n",
       "      <th>...</th>\n",
       "      <td>...</td>\n",
       "      <td>...</td>\n",
       "      <td>...</td>\n",
       "      <td>...</td>\n",
       "      <td>...</td>\n",
       "      <td>...</td>\n",
       "      <td>...</td>\n",
       "      <td>...</td>\n",
       "      <td>...</td>\n",
       "      <td>...</td>\n",
       "      <td>...</td>\n",
       "      <td>...</td>\n",
       "      <td>...</td>\n",
       "      <td>...</td>\n",
       "      <td>...</td>\n",
       "      <td>...</td>\n",
       "      <td>...</td>\n",
       "      <td>...</td>\n",
       "      <td>...</td>\n",
       "      <td>...</td>\n",
       "      <td>...</td>\n",
       "    </tr>\n",
       "    <tr>\n",
       "      <th>34116</th>\n",
       "      <td>1</td>\n",
       "      <td>82</td>\n",
       "      <td>202112</td>\n",
       "      <td>81403</td>\n",
       "      <td>2.0</td>\n",
       "      <td>7</td>\n",
       "      <td>C20</td>\n",
       "      <td>10000</td>\n",
       "      <td>Regional</td>\n",
       "      <td>NaN</td>\n",
       "      <td>...</td>\n",
       "      <td>0</td>\n",
       "      <td>0</td>\n",
       "      <td>0</td>\n",
       "      <td>1</td>\n",
       "      <td>0</td>\n",
       "      <td>0</td>\n",
       "      <td>0</td>\n",
       "      <td>0</td>\n",
       "      <td>0</td>\n",
       "      <td>1.492967</td>\n",
       "    </tr>\n",
       "    <tr>\n",
       "      <th>34117</th>\n",
       "      <td>1</td>\n",
       "      <td>64</td>\n",
       "      <td>202112</td>\n",
       "      <td>84803</td>\n",
       "      <td>9.0</td>\n",
       "      <td>7</td>\n",
       "      <td>C180</td>\n",
       "      <td>10000</td>\n",
       "      <td>Regional</td>\n",
       "      <td>TNM</td>\n",
       "      <td>...</td>\n",
       "      <td>0</td>\n",
       "      <td>0</td>\n",
       "      <td>0</td>\n",
       "      <td>1</td>\n",
       "      <td>0</td>\n",
       "      <td>0</td>\n",
       "      <td>0</td>\n",
       "      <td>0</td>\n",
       "      <td>0</td>\n",
       "      <td>0.035721</td>\n",
       "    </tr>\n",
       "    <tr>\n",
       "      <th>34118</th>\n",
       "      <td>1</td>\n",
       "      <td>52</td>\n",
       "      <td>202112</td>\n",
       "      <td>81403</td>\n",
       "      <td>2.0</td>\n",
       "      <td>7</td>\n",
       "      <td>C185</td>\n",
       "      <td>10000</td>\n",
       "      <td>Localized</td>\n",
       "      <td>TNM</td>\n",
       "      <td>...</td>\n",
       "      <td>0</td>\n",
       "      <td>0</td>\n",
       "      <td>0</td>\n",
       "      <td>1</td>\n",
       "      <td>0</td>\n",
       "      <td>0</td>\n",
       "      <td>0</td>\n",
       "      <td>0</td>\n",
       "      <td>0</td>\n",
       "      <td>-0.935777</td>\n",
       "    </tr>\n",
       "    <tr>\n",
       "      <th>34119</th>\n",
       "      <td>1</td>\n",
       "      <td>56</td>\n",
       "      <td>202112</td>\n",
       "      <td>81403</td>\n",
       "      <td>3.0</td>\n",
       "      <td>7</td>\n",
       "      <td>C182</td>\n",
       "      <td>11000</td>\n",
       "      <td>Regional</td>\n",
       "      <td>NaN</td>\n",
       "      <td>...</td>\n",
       "      <td>0</td>\n",
       "      <td>0</td>\n",
       "      <td>0</td>\n",
       "      <td>0</td>\n",
       "      <td>0</td>\n",
       "      <td>0</td>\n",
       "      <td>1</td>\n",
       "      <td>0</td>\n",
       "      <td>0</td>\n",
       "      <td>-0.611945</td>\n",
       "    </tr>\n",
       "    <tr>\n",
       "      <th>34120</th>\n",
       "      <td>1</td>\n",
       "      <td>56</td>\n",
       "      <td>202112</td>\n",
       "      <td>81403</td>\n",
       "      <td>3.0</td>\n",
       "      <td>7</td>\n",
       "      <td>C182</td>\n",
       "      <td>11000</td>\n",
       "      <td>Regional</td>\n",
       "      <td>NaN</td>\n",
       "      <td>...</td>\n",
       "      <td>0</td>\n",
       "      <td>0</td>\n",
       "      <td>0</td>\n",
       "      <td>0</td>\n",
       "      <td>0</td>\n",
       "      <td>0</td>\n",
       "      <td>1</td>\n",
       "      <td>0</td>\n",
       "      <td>0</td>\n",
       "      <td>-0.611945</td>\n",
       "    </tr>\n",
       "  </tbody>\n",
       "</table>\n",
       "<p>34121 rows × 37 columns</p>\n",
       "</div>"
      ],
      "text/plain": [
       "       sex  age     fdx  mcode  bunhwado  method icd_10     tx   seercode  \\\n",
       "0        0   66  199902  81403       NaN       7   C187  11000   Regional   \n",
       "1        0   46  199903  84803       NaN       7   C180  11000  Localized   \n",
       "2        1   64  199903  81403       NaN       7   C184  11000  Localized   \n",
       "3        1   47  199904  84803       NaN       7    C20  11000   Regional   \n",
       "4        0   57  199905  81403       NaN       7    C20  10000  Localized   \n",
       "...    ...  ...     ...    ...       ...     ...    ...    ...        ...   \n",
       "34116    1   82  202112  81403       2.0       7    C20  10000   Regional   \n",
       "34117    1   64  202112  84803       9.0       7   C180  10000   Regional   \n",
       "34118    1   52  202112  81403       2.0       7   C185  10000  Localized   \n",
       "34119    1   56  202112  81403       3.0       7   C182  11000   Regional   \n",
       "34120    1   56  202112  81403       3.0       7   C182  11000   Regional   \n",
       "\n",
       "      stagecode  ... tx_00100 tx_01000  tx_01100 tx_10000 tx_10010  tx_10100  \\\n",
       "0           NaN  ...        0        0         0        0        0         0   \n",
       "1           TNM  ...        0        0         0        0        0         0   \n",
       "2           NaN  ...        0        0         0        0        0         0   \n",
       "3           TNM  ...        0        0         0        0        0         0   \n",
       "4           NaN  ...        0        0         0        1        0         0   \n",
       "...         ...  ...      ...      ...       ...      ...      ...       ...   \n",
       "34116       NaN  ...        0        0         0        1        0         0   \n",
       "34117       TNM  ...        0        0         0        1        0         0   \n",
       "34118       TNM  ...        0        0         0        1        0         0   \n",
       "34119       NaN  ...        0        0         0        0        0         0   \n",
       "34120       NaN  ...        0        0         0        0        0         0   \n",
       "\n",
       "       tx_11000  tx_11010  tx_11100  age_scaled  \n",
       "0             1         0         0    0.197637  \n",
       "1             1         0         0   -1.421526  \n",
       "2             1         0         0    0.035721  \n",
       "3             1         0         0   -1.340568  \n",
       "4             0         0         0   -0.530986  \n",
       "...         ...       ...       ...         ...  \n",
       "34116         0         0         0    1.492967  \n",
       "34117         0         0         0    0.035721  \n",
       "34118         0         0         0   -0.935777  \n",
       "34119         1         0         0   -0.611945  \n",
       "34120         1         0         0   -0.611945  \n",
       "\n",
       "[34121 rows x 37 columns]"
      ]
     },
     "metadata": {},
     "output_type": "display_data"
    },
    {
     "name": "stdout",
     "output_type": "stream",
     "text": [
      "34121\n",
      "['C187' 'C180' 'C184' 'C20' 'C182' 'C181' 'C189' 'C186' 'C188' 'C183'\n",
      " 'C185']\n"
     ]
    }
   ],
   "source": [
    "import pandas as pd\n",
    "\n",
    "df = pd.read_csv('./origin_colon_cancer.csv')\n",
    "display(df)\n",
    "print(df.shape[0])\n",
    "print(df['icd_10'].unique())"
   ]
  },
  {
   "cell_type": "markdown",
   "metadata": {},
   "source": [
    "## 성별 확인"
   ]
  },
  {
   "cell_type": "code",
   "execution_count": 2,
   "metadata": {},
   "outputs": [
    {
     "name": "stdout",
     "output_type": "stream",
     "text": [
      "sex\n",
      "1    20257\n",
      "0    13864\n",
      "Name: count, dtype: int64\n",
      "sex\n",
      "1    59.368131\n",
      "0    40.631869\n",
      "Name: proportion, dtype: float64\n"
     ]
    }
   ],
   "source": [
    "print(df['sex'].value_counts())\n",
    "print(df['sex'].value_counts(normalize=True)*100)"
   ]
  },
  {
   "cell_type": "markdown",
   "metadata": {},
   "source": [
    "## Summary stage 확인"
   ]
  },
  {
   "cell_type": "code",
   "execution_count": 3,
   "metadata": {},
   "outputs": [
    {
     "name": "stdout",
     "output_type": "stream",
     "text": [
      "seercode\n",
      "Regional     15126\n",
      "Localized    13034\n",
      "Distant       5961\n",
      "Name: count, dtype: int64\n",
      "seercode\n",
      "Regional     44.330471\n",
      "Localized    38.199349\n",
      "Distant      17.470180\n",
      "Name: proportion, dtype: float64\n"
     ]
    }
   ],
   "source": [
    "print(df['seercode'].value_counts())\n",
    "print(df['seercode'].value_counts(normalize=True)*100)"
   ]
  },
  {
   "cell_type": "markdown",
   "metadata": {},
   "source": [
    "## 사망&중도절단 확인"
   ]
  },
  {
   "cell_type": "code",
   "execution_count": 4,
   "metadata": {},
   "outputs": [
    {
     "name": "stdout",
     "output_type": "stream",
     "text": [
      "event_inc\n",
      "0    19427\n",
      "1    14694\n",
      "Name: count, dtype: int64\n",
      "event_inc\n",
      "0    56.935612\n",
      "1    43.064388\n",
      "Name: proportion, dtype: float64\n"
     ]
    }
   ],
   "source": [
    "print(df['event_inc'].value_counts())\n",
    "print(df['event_inc'].value_counts(normalize=True)*100)"
   ]
  },
  {
   "cell_type": "markdown",
   "metadata": {},
   "source": [
    "## 치료 유형 확인\n",
    "수술, 화학요법, 방사선요법, 면역요법, 호르몬요법"
   ]
  },
  {
   "cell_type": "code",
   "execution_count": 5,
   "metadata": {},
   "outputs": [
    {
     "name": "stdout",
     "output_type": "stream",
     "text": [
      "['tx_00000', 'tx_00100', 'tx_01000', 'tx_01100', 'tx_10000', 'tx_10010', 'tx_10100', 'tx_11000', 'tx_11010', 'tx_11100']\n"
     ]
    }
   ],
   "source": [
    "tx_cols = [col for col in df.columns if col.startswith('tx_')]\n",
    "print(tx_cols)"
   ]
  },
  {
   "cell_type": "code",
   "execution_count": 27,
   "metadata": {},
   "outputs": [
    {
     "name": "stdout",
     "output_type": "stream",
     "text": [
      "tx\n",
      "10000    48.644530\n",
      "11000    24.606547\n",
      "0        12.555318\n",
      "1000      5.542042\n",
      "11100     4.038569\n",
      "1100      2.388558\n",
      "10100     0.838193\n",
      "11010     0.512881\n",
      "100       0.460127\n",
      "10010     0.413235\n",
      "Name: proportion, dtype: float64\n",
      "tx\n",
      "10000    16598\n",
      "11000     8396\n",
      "0         4284\n",
      "1000      1891\n",
      "11100     1378\n",
      "1100       815\n",
      "10100      286\n",
      "11010      175\n",
      "100        157\n",
      "10010      141\n",
      "Name: count, dtype: int64\n"
     ]
    }
   ],
   "source": [
    "print(df['tx'].value_counts(normalize=True)*100)\n",
    "print(df['tx'].value_counts())"
   ]
  },
  {
   "cell_type": "code",
   "execution_count": null,
   "metadata": {},
   "outputs": [
    {
     "name": "stdout",
     "output_type": "stream",
     "text": [
      "100.00000000000001\n"
     ]
    }
   ],
   "source": [
    "print(48.64+ 24.61+ 12.56+ 5.54+ 4.04+ 2.39+ 0.84+ 0.46+ 0.51+ 0.41)"
   ]
  },
  {
   "cell_type": "markdown",
   "metadata": {},
   "source": [
    "['tx_00000', 'tx_00100', 'tx_01000', 'tx_01100', 'tx_10000', 'tx_10010', 'tx_10100', 'tx_11000', 'tx_11010', 'tx_11100']"
   ]
  },
  {
   "cell_type": "code",
   "execution_count": 6,
   "metadata": {},
   "outputs": [
    {
     "name": "stdout",
     "output_type": "stream",
     "text": [
      "tx_00000\n",
      "0    29837\n",
      "1     4284\n",
      "Name: count, dtype: int64\n",
      "tx_00000\n",
      "0    87.444682\n",
      "1    12.555318\n",
      "Name: proportion, dtype: float64\n"
     ]
    }
   ],
   "source": [
    "print(df['tx_00000'].value_counts())\n",
    "print(df['tx_00000'].value_counts(normalize=True)*100)"
   ]
  },
  {
   "cell_type": "code",
   "execution_count": 7,
   "metadata": {},
   "outputs": [
    {
     "name": "stdout",
     "output_type": "stream",
     "text": [
      "tx_11010\n",
      "0    33946\n",
      "1      175\n",
      "Name: count, dtype: int64\n",
      "tx_11010\n",
      "0    99.487119\n",
      "1     0.512881\n",
      "Name: proportion, dtype: float64\n"
     ]
    }
   ],
   "source": [
    "print(df['tx_11010'].value_counts())\n",
    "print(df['tx_11010'].value_counts(normalize=True)*100)"
   ]
  },
  {
   "cell_type": "code",
   "execution_count": 8,
   "metadata": {},
   "outputs": [
    {
     "name": "stdout",
     "output_type": "stream",
     "text": [
      "tx_10000\n",
      "0    17523\n",
      "1    16598\n",
      "Name: count, dtype: int64\n",
      "tx_10000\n",
      "0    51.35547\n",
      "1    48.64453\n",
      "Name: proportion, dtype: float64\n"
     ]
    }
   ],
   "source": [
    "print(df['tx_10000'].value_counts())\n",
    "print(df['tx_10000'].value_counts(normalize=True)*100)"
   ]
  },
  {
   "cell_type": "code",
   "execution_count": 9,
   "metadata": {},
   "outputs": [
    {
     "name": "stdout",
     "output_type": "stream",
     "text": [
      "tx_10010\n",
      "0    33980\n",
      "1      141\n",
      "Name: count, dtype: int64\n",
      "tx_10010\n",
      "0    99.586765\n",
      "1     0.413235\n",
      "Name: proportion, dtype: float64\n"
     ]
    }
   ],
   "source": [
    "print(df['tx_10010'].value_counts())\n",
    "print(df['tx_10010'].value_counts(normalize=True)*100)"
   ]
  },
  {
   "cell_type": "code",
   "execution_count": 10,
   "metadata": {},
   "outputs": [
    {
     "name": "stdout",
     "output_type": "stream",
     "text": [
      "tx_10100\n",
      "0    33835\n",
      "1      286\n",
      "Name: count, dtype: int64\n",
      "tx_10100\n",
      "0    99.161807\n",
      "1     0.838193\n",
      "Name: proportion, dtype: float64\n"
     ]
    }
   ],
   "source": [
    "print(df['tx_10100'].value_counts())\n",
    "print(df['tx_10100'].value_counts(normalize=True)*100)"
   ]
  },
  {
   "cell_type": "code",
   "execution_count": 11,
   "metadata": {},
   "outputs": [
    {
     "name": "stdout",
     "output_type": "stream",
     "text": [
      "tx_11100\n",
      "0    32743\n",
      "1     1378\n",
      "Name: count, dtype: int64\n",
      "tx_11100\n",
      "0    95.961431\n",
      "1     4.038569\n",
      "Name: proportion, dtype: float64\n"
     ]
    }
   ],
   "source": [
    "print(df['tx_11100'].value_counts())\n",
    "print(df['tx_11100'].value_counts(normalize=True)*100)"
   ]
  },
  {
   "cell_type": "code",
   "execution_count": 12,
   "metadata": {},
   "outputs": [
    {
     "name": "stdout",
     "output_type": "stream",
     "text": [
      "tx_11000\n",
      "0    25725\n",
      "1     8396\n",
      "Name: count, dtype: int64\n",
      "tx_11000\n",
      "0    75.393453\n",
      "1    24.606547\n",
      "Name: proportion, dtype: float64\n"
     ]
    }
   ],
   "source": [
    "print(df['tx_11000'].value_counts())\n",
    "print(df['tx_11000'].value_counts(normalize=True)*100)"
   ]
  }
 ],
 "metadata": {
  "kernelspec": {
   "display_name": "surv_env",
   "language": "python",
   "name": "python3"
  },
  "language_info": {
   "codemirror_mode": {
    "name": "ipython",
    "version": 3
   },
   "file_extension": ".py",
   "mimetype": "text/x-python",
   "name": "python",
   "nbconvert_exporter": "python",
   "pygments_lexer": "ipython3",
   "version": "3.11.11"
  }
 },
 "nbformat": 4,
 "nbformat_minor": 2
}
